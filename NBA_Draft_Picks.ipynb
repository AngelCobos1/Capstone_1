{
 "cells": [
  {
   "cell_type": "code",
   "execution_count": 1,
   "metadata": {},
   "outputs": [],
   "source": [
    "import numpy as np\n",
    "from numpy import array\n",
    "import pandas as pd\n",
    "import math\n",
    "import seaborn as sns\n",
    "from scipy import stats\n",
    "from statsmodels.stats.power import TTestIndPower\n",
    "import matplotlib.pyplot as plt\n",
    "%matplotlib inline"
   ]
  },
  {
   "cell_type": "code",
   "execution_count": 2,
   "metadata": {},
   "outputs": [],
   "source": [
    "# We start by reading the csv data set into python\n",
    "\n",
    "df = pd.read_csv(r'C:\\Users\\ASUS\\Thinkful_Projects\\Capstone_1\\all_seasons.csv')\n",
    "#df.info()"
   ]
  },
  {
   "cell_type": "code",
   "execution_count": 3,
   "metadata": {},
   "outputs": [],
   "source": [
    "# Data Cleaning:\n",
    "# We need to clean the data of values that will not be pertinent to our analysis.\n",
    "# As we'll comparing draft pick number from the first round-the'Undrafted' values can be removed\n",
    "\n",
    "df_0 = df.loc[(df['draft_number'] != 'Undrafted')]\n",
    "#df_0.dtypes"
   ]
  },
  {
   "cell_type": "code",
   "execution_count": 4,
   "metadata": {
    "scrolled": true
   },
   "outputs": [
    {
     "name": "stderr",
     "output_type": "stream",
     "text": [
      "C:\\Users\\ASUS\\anaconda3\\lib\\site-packages\\pandas\\core\\frame.py:3065: SettingWithCopyWarning: \n",
      "A value is trying to be set on a copy of a slice from a DataFrame.\n",
      "Try using .loc[row_indexer,col_indexer] = value instead\n",
      "\n",
      "See the caveats in the documentation: https://pandas.pydata.org/pandas-docs/stable/user_guide/indexing.html#returning-a-view-versus-a-copy\n",
      "  self[k1] = value[k2]\n"
     ]
    },
    {
     "data": {
      "text/plain": [
       "Unnamed: 0             int64\n",
       "player_name           object\n",
       "team_abbreviation     object\n",
       "age                  float64\n",
       "player_height        float64\n",
       "player_weight        float64\n",
       "college               object\n",
       "country               object\n",
       "draft_year             int64\n",
       "draft_round            int64\n",
       "draft_number           int64\n",
       "gp                     int64\n",
       "pts                  float64\n",
       "reb                  float64\n",
       "ast                  float64\n",
       "net_rating           float64\n",
       "oreb_pct             float64\n",
       "dreb_pct             float64\n",
       "usg_pct              float64\n",
       "ts_pct               float64\n",
       "ast_pct              float64\n",
       "season                object\n",
       "dtype: object"
      ]
     },
     "execution_count": 4,
     "metadata": {},
     "output_type": "execute_result"
    }
   ],
   "source": [
    "# Data Cleaning:\n",
    "# We need to convert some of the field dtypes so we can sort and group more easily later\n",
    "\n",
    "cols = ['draft_year', 'draft_round', 'draft_number']\n",
    "df_0[cols] = df_0[cols].apply(pd.to_numeric, errors='coerce', axis=1)\n",
    "df_0.dtypes"
   ]
  },
  {
   "cell_type": "code",
   "execution_count": 5,
   "metadata": {},
   "outputs": [],
   "source": [
    "# Data Wrangling:\n",
    "# Because the original data set inlcudes draft year obeservations from years as far back as 1963\n",
    "# we are going to dial in on a more contemporary and representative sample. So I've chosen to collect from 2010 until now, \n",
    "# (less the current seasoned of 2019=20). \n",
    "\n",
    "df_1 = df_0.loc[\n",
    "    (df_0['draft_year'] >= 2010)  \n",
    "    & (df_0['draft_round'] == 1) \n",
    "    & (df_0['season'] != '2019-20')\n",
    "]\n",
    "\n",
    "#df_1.info()"
   ]
  },
  {
   "cell_type": "code",
   "execution_count": 6,
   "metadata": {
    "scrolled": true
   },
   "outputs": [
    {
     "data": {
      "text/html": [
       "<div>\n",
       "<style scoped>\n",
       "    .dataframe tbody tr th:only-of-type {\n",
       "        vertical-align: middle;\n",
       "    }\n",
       "\n",
       "    .dataframe tbody tr th {\n",
       "        vertical-align: top;\n",
       "    }\n",
       "\n",
       "    .dataframe thead th {\n",
       "        text-align: right;\n",
       "    }\n",
       "</style>\n",
       "<table border=\"1\" class=\"dataframe\">\n",
       "  <thead>\n",
       "    <tr style=\"text-align: right;\">\n",
       "      <th></th>\n",
       "      <th>Unnamed: 0</th>\n",
       "      <th>player_name</th>\n",
       "      <th>team_abbreviation</th>\n",
       "      <th>age</th>\n",
       "      <th>player_height</th>\n",
       "      <th>player_weight</th>\n",
       "      <th>college</th>\n",
       "      <th>country</th>\n",
       "      <th>draft_year</th>\n",
       "      <th>draft_round</th>\n",
       "      <th>...</th>\n",
       "      <th>pts</th>\n",
       "      <th>reb</th>\n",
       "      <th>ast</th>\n",
       "      <th>net_rating</th>\n",
       "      <th>oreb_pct</th>\n",
       "      <th>dreb_pct</th>\n",
       "      <th>usg_pct</th>\n",
       "      <th>ts_pct</th>\n",
       "      <th>ast_pct</th>\n",
       "      <th>season</th>\n",
       "    </tr>\n",
       "  </thead>\n",
       "  <tbody>\n",
       "    <tr>\n",
       "      <th>0</th>\n",
       "      <td>8200</td>\n",
       "      <td>Aaron Gordon</td>\n",
       "      <td>ORL</td>\n",
       "      <td>19.0</td>\n",
       "      <td>205.74</td>\n",
       "      <td>99.790240</td>\n",
       "      <td>Arizona</td>\n",
       "      <td>USA</td>\n",
       "      <td>2014</td>\n",
       "      <td>1</td>\n",
       "      <td>...</td>\n",
       "      <td>5.2</td>\n",
       "      <td>3.6</td>\n",
       "      <td>0.7</td>\n",
       "      <td>-5.6</td>\n",
       "      <td>0.064</td>\n",
       "      <td>0.171</td>\n",
       "      <td>0.156</td>\n",
       "      <td>0.517</td>\n",
       "      <td>0.064</td>\n",
       "      <td>2014-15</td>\n",
       "    </tr>\n",
       "    <tr>\n",
       "      <th>1</th>\n",
       "      <td>8600</td>\n",
       "      <td>Aaron Gordon</td>\n",
       "      <td>ORL</td>\n",
       "      <td>20.0</td>\n",
       "      <td>205.74</td>\n",
       "      <td>99.790240</td>\n",
       "      <td>Arizona</td>\n",
       "      <td>USA</td>\n",
       "      <td>2014</td>\n",
       "      <td>1</td>\n",
       "      <td>...</td>\n",
       "      <td>9.2</td>\n",
       "      <td>6.5</td>\n",
       "      <td>1.6</td>\n",
       "      <td>-1.3</td>\n",
       "      <td>0.089</td>\n",
       "      <td>0.210</td>\n",
       "      <td>0.171</td>\n",
       "      <td>0.541</td>\n",
       "      <td>0.103</td>\n",
       "      <td>2015-16</td>\n",
       "    </tr>\n",
       "    <tr>\n",
       "      <th>2</th>\n",
       "      <td>9145</td>\n",
       "      <td>Aaron Gordon</td>\n",
       "      <td>ORL</td>\n",
       "      <td>21.0</td>\n",
       "      <td>205.74</td>\n",
       "      <td>99.790240</td>\n",
       "      <td>Arizona</td>\n",
       "      <td>USA</td>\n",
       "      <td>2014</td>\n",
       "      <td>1</td>\n",
       "      <td>...</td>\n",
       "      <td>12.7</td>\n",
       "      <td>5.1</td>\n",
       "      <td>1.9</td>\n",
       "      <td>-2.8</td>\n",
       "      <td>0.054</td>\n",
       "      <td>0.141</td>\n",
       "      <td>0.200</td>\n",
       "      <td>0.530</td>\n",
       "      <td>0.097</td>\n",
       "      <td>2016-17</td>\n",
       "    </tr>\n",
       "    <tr>\n",
       "      <th>6</th>\n",
       "      <td>8201</td>\n",
       "      <td>Adreian Payne</td>\n",
       "      <td>MIN</td>\n",
       "      <td>24.0</td>\n",
       "      <td>208.28</td>\n",
       "      <td>111.130040</td>\n",
       "      <td>Michigan State</td>\n",
       "      <td>USA</td>\n",
       "      <td>2014</td>\n",
       "      <td>1</td>\n",
       "      <td>...</td>\n",
       "      <td>6.7</td>\n",
       "      <td>5.1</td>\n",
       "      <td>0.9</td>\n",
       "      <td>-16.9</td>\n",
       "      <td>0.073</td>\n",
       "      <td>0.186</td>\n",
       "      <td>0.176</td>\n",
       "      <td>0.443</td>\n",
       "      <td>0.067</td>\n",
       "      <td>2014-15</td>\n",
       "    </tr>\n",
       "    <tr>\n",
       "      <th>7</th>\n",
       "      <td>8923</td>\n",
       "      <td>Adreian Payne</td>\n",
       "      <td>MIN</td>\n",
       "      <td>25.0</td>\n",
       "      <td>208.28</td>\n",
       "      <td>107.501304</td>\n",
       "      <td>Michigan State</td>\n",
       "      <td>USA</td>\n",
       "      <td>2014</td>\n",
       "      <td>1</td>\n",
       "      <td>...</td>\n",
       "      <td>2.5</td>\n",
       "      <td>2.1</td>\n",
       "      <td>0.6</td>\n",
       "      <td>-10.8</td>\n",
       "      <td>0.049</td>\n",
       "      <td>0.220</td>\n",
       "      <td>0.180</td>\n",
       "      <td>0.422</td>\n",
       "      <td>0.093</td>\n",
       "      <td>2015-16</td>\n",
       "    </tr>\n",
       "    <tr>\n",
       "      <th>...</th>\n",
       "      <td>...</td>\n",
       "      <td>...</td>\n",
       "      <td>...</td>\n",
       "      <td>...</td>\n",
       "      <td>...</td>\n",
       "      <td>...</td>\n",
       "      <td>...</td>\n",
       "      <td>...</td>\n",
       "      <td>...</td>\n",
       "      <td>...</td>\n",
       "      <td>...</td>\n",
       "      <td>...</td>\n",
       "      <td>...</td>\n",
       "      <td>...</td>\n",
       "      <td>...</td>\n",
       "      <td>...</td>\n",
       "      <td>...</td>\n",
       "      <td>...</td>\n",
       "      <td>...</td>\n",
       "      <td>...</td>\n",
       "      <td>...</td>\n",
       "    </tr>\n",
       "    <tr>\n",
       "      <th>1123</th>\n",
       "      <td>6707</td>\n",
       "      <td>Xavier Henry</td>\n",
       "      <td>NOH</td>\n",
       "      <td>21.0</td>\n",
       "      <td>198.12</td>\n",
       "      <td>99.790240</td>\n",
       "      <td>Kansas</td>\n",
       "      <td>USA</td>\n",
       "      <td>2010</td>\n",
       "      <td>1</td>\n",
       "      <td>...</td>\n",
       "      <td>5.3</td>\n",
       "      <td>2.4</td>\n",
       "      <td>0.8</td>\n",
       "      <td>-3.2</td>\n",
       "      <td>0.039</td>\n",
       "      <td>0.124</td>\n",
       "      <td>0.188</td>\n",
       "      <td>0.450</td>\n",
       "      <td>0.081</td>\n",
       "      <td>2011-12</td>\n",
       "    </tr>\n",
       "    <tr>\n",
       "      <th>1124</th>\n",
       "      <td>7175</td>\n",
       "      <td>Xavier Henry</td>\n",
       "      <td>NOH</td>\n",
       "      <td>22.0</td>\n",
       "      <td>198.12</td>\n",
       "      <td>99.790240</td>\n",
       "      <td>Kansas</td>\n",
       "      <td>USA</td>\n",
       "      <td>2010</td>\n",
       "      <td>1</td>\n",
       "      <td>...</td>\n",
       "      <td>3.9</td>\n",
       "      <td>1.8</td>\n",
       "      <td>0.3</td>\n",
       "      <td>-13.9</td>\n",
       "      <td>0.038</td>\n",
       "      <td>0.146</td>\n",
       "      <td>0.173</td>\n",
       "      <td>0.481</td>\n",
       "      <td>0.036</td>\n",
       "      <td>2012-13</td>\n",
       "    </tr>\n",
       "    <tr>\n",
       "      <th>1129</th>\n",
       "      <td>8141</td>\n",
       "      <td>Zach LaVine</td>\n",
       "      <td>MIN</td>\n",
       "      <td>20.0</td>\n",
       "      <td>195.58</td>\n",
       "      <td>83.007336</td>\n",
       "      <td>UCLA</td>\n",
       "      <td>USA</td>\n",
       "      <td>2014</td>\n",
       "      <td>1</td>\n",
       "      <td>...</td>\n",
       "      <td>10.1</td>\n",
       "      <td>2.8</td>\n",
       "      <td>3.6</td>\n",
       "      <td>-14.5</td>\n",
       "      <td>0.016</td>\n",
       "      <td>0.116</td>\n",
       "      <td>0.224</td>\n",
       "      <td>0.515</td>\n",
       "      <td>0.250</td>\n",
       "      <td>2014-15</td>\n",
       "    </tr>\n",
       "    <tr>\n",
       "      <th>1130</th>\n",
       "      <td>9063</td>\n",
       "      <td>Zach LaVine</td>\n",
       "      <td>MIN</td>\n",
       "      <td>21.0</td>\n",
       "      <td>195.58</td>\n",
       "      <td>85.728888</td>\n",
       "      <td>UCLA</td>\n",
       "      <td>USA</td>\n",
       "      <td>2014</td>\n",
       "      <td>1</td>\n",
       "      <td>...</td>\n",
       "      <td>14.0</td>\n",
       "      <td>2.8</td>\n",
       "      <td>3.1</td>\n",
       "      <td>-5.5</td>\n",
       "      <td>0.014</td>\n",
       "      <td>0.100</td>\n",
       "      <td>0.233</td>\n",
       "      <td>0.548</td>\n",
       "      <td>0.187</td>\n",
       "      <td>2015-16</td>\n",
       "    </tr>\n",
       "    <tr>\n",
       "      <th>1131</th>\n",
       "      <td>9132</td>\n",
       "      <td>Zach LaVine</td>\n",
       "      <td>MIN</td>\n",
       "      <td>22.0</td>\n",
       "      <td>195.58</td>\n",
       "      <td>83.914520</td>\n",
       "      <td>UCLA</td>\n",
       "      <td>USA</td>\n",
       "      <td>2014</td>\n",
       "      <td>1</td>\n",
       "      <td>...</td>\n",
       "      <td>18.9</td>\n",
       "      <td>3.4</td>\n",
       "      <td>3.0</td>\n",
       "      <td>-3.6</td>\n",
       "      <td>0.012</td>\n",
       "      <td>0.098</td>\n",
       "      <td>0.218</td>\n",
       "      <td>0.576</td>\n",
       "      <td>0.128</td>\n",
       "      <td>2016-17</td>\n",
       "    </tr>\n",
       "  </tbody>\n",
       "</table>\n",
       "<p>567 rows × 22 columns</p>\n",
       "</div>"
      ],
      "text/plain": [
       "      Unnamed: 0    player_name team_abbreviation   age  player_height  \\\n",
       "0           8200   Aaron Gordon               ORL  19.0         205.74   \n",
       "1           8600   Aaron Gordon               ORL  20.0         205.74   \n",
       "2           9145   Aaron Gordon               ORL  21.0         205.74   \n",
       "6           8201  Adreian Payne               MIN  24.0         208.28   \n",
       "7           8923  Adreian Payne               MIN  25.0         208.28   \n",
       "...          ...            ...               ...   ...            ...   \n",
       "1123        6707   Xavier Henry               NOH  21.0         198.12   \n",
       "1124        7175   Xavier Henry               NOH  22.0         198.12   \n",
       "1129        8141    Zach LaVine               MIN  20.0         195.58   \n",
       "1130        9063    Zach LaVine               MIN  21.0         195.58   \n",
       "1131        9132    Zach LaVine               MIN  22.0         195.58   \n",
       "\n",
       "      player_weight         college country  draft_year  draft_round  ...  \\\n",
       "0         99.790240         Arizona     USA        2014            1  ...   \n",
       "1         99.790240         Arizona     USA        2014            1  ...   \n",
       "2         99.790240         Arizona     USA        2014            1  ...   \n",
       "6        111.130040  Michigan State     USA        2014            1  ...   \n",
       "7        107.501304  Michigan State     USA        2014            1  ...   \n",
       "...             ...             ...     ...         ...          ...  ...   \n",
       "1123      99.790240          Kansas     USA        2010            1  ...   \n",
       "1124      99.790240          Kansas     USA        2010            1  ...   \n",
       "1129      83.007336            UCLA     USA        2014            1  ...   \n",
       "1130      85.728888            UCLA     USA        2014            1  ...   \n",
       "1131      83.914520            UCLA     USA        2014            1  ...   \n",
       "\n",
       "       pts  reb  ast  net_rating  oreb_pct  dreb_pct  usg_pct  ts_pct  \\\n",
       "0      5.2  3.6  0.7        -5.6     0.064     0.171    0.156   0.517   \n",
       "1      9.2  6.5  1.6        -1.3     0.089     0.210    0.171   0.541   \n",
       "2     12.7  5.1  1.9        -2.8     0.054     0.141    0.200   0.530   \n",
       "6      6.7  5.1  0.9       -16.9     0.073     0.186    0.176   0.443   \n",
       "7      2.5  2.1  0.6       -10.8     0.049     0.220    0.180   0.422   \n",
       "...    ...  ...  ...         ...       ...       ...      ...     ...   \n",
       "1123   5.3  2.4  0.8        -3.2     0.039     0.124    0.188   0.450   \n",
       "1124   3.9  1.8  0.3       -13.9     0.038     0.146    0.173   0.481   \n",
       "1129  10.1  2.8  3.6       -14.5     0.016     0.116    0.224   0.515   \n",
       "1130  14.0  2.8  3.1        -5.5     0.014     0.100    0.233   0.548   \n",
       "1131  18.9  3.4  3.0        -3.6     0.012     0.098    0.218   0.576   \n",
       "\n",
       "      ast_pct   season  \n",
       "0       0.064  2014-15  \n",
       "1       0.103  2015-16  \n",
       "2       0.097  2016-17  \n",
       "6       0.067  2014-15  \n",
       "7       0.093  2015-16  \n",
       "...       ...      ...  \n",
       "1123    0.081  2011-12  \n",
       "1124    0.036  2012-13  \n",
       "1129    0.250  2014-15  \n",
       "1130    0.187  2015-16  \n",
       "1131    0.128  2016-17  \n",
       "\n",
       "[567 rows x 22 columns]"
      ]
     },
     "execution_count": 6,
     "metadata": {},
     "output_type": "execute_result"
    }
   ],
   "source": [
    "# Data Wrangling:\n",
    "# Now that we have all player observations from 2010-present(less current season). We can see that some of those observations\n",
    "# are of the same player for multiple seasons, so we will need to organize the data by player_name and secondly sort\n",
    "# by their own individual and chronological seasons of play. For the sake of estalbishing congrous samples we will only be focusing\n",
    "# on player's first three years of play.\n",
    "\n",
    "df_2 = df_1.groupby(['player_name']).apply(lambda x: x.sort_values(['season'])).reset_index(drop=True)\n",
    "df_3 = df_2.groupby('player_name').head(3)\n",
    "\n",
    "counts = df_3['player_name'].value_counts()\n",
    "\n",
    "results_df = df_3[~df_3['player_name'].isin(counts[counts < 3].index)]\n",
    "\n",
    "results_df\n"
   ]
  },
  {
   "cell_type": "code",
   "execution_count": 47,
   "metadata": {
    "scrolled": false
   },
   "outputs": [
    {
     "data": {
      "image/png": "[encoded data removed]",
      "text/plain": [
       "<Figure size 1440x576 with 1 Axes>"
      ]
     },
     "metadata": {
      "needs_background": "light"
     },
     "output_type": "display_data"
    }
   ],
   "source": [
    "# Data Vizualization:\n",
    "# We can already vizualize trends among several of the metrics, by draft_number, but we should explore this more closely\n",
    "# to our hypothesis by splitting the data set into two groups.\n",
    "\n",
    "results_df.boxplot('pts', by='draft_number', figsize=(20, 8))\n",
    "plt.show()"
   ]
  },
  {
   "cell_type": "code",
   "execution_count": 9,
   "metadata": {},
   "outputs": [],
   "source": [
    "# Data Wrangling:\n",
    "# We can now split our dataframe in two to examine the differences between the highly coveted 14 draft picks and the remaining\n",
    "# draft picks of the first round.\n",
    "\n",
    "fr_top_picks = results_df.loc[results_df['draft_number'] <= 14]\n",
    "#firstr_top_picks.count()\n",
    "\n",
    "fr_bottom_picks = results_df.loc[results_df['draft_number'] >= 15]\n",
    "#firstr_bottom_picks.count()"
   ]
  },
  {
   "cell_type": "code",
   "execution_count": 10,
   "metadata": {},
   "outputs": [
    {
     "name": "stdout",
     "output_type": "stream",
     "text": [
      "DescribeResult(nobs=285, minmax=(1.0, 27.5), mean=10.375087719298245, variance=27.939201136644428, skewness=0.6753466441903969, kurtosis=-0.01835634983070822)\n",
      "DescribeResult(nobs=282, minmax=(0.0, 16.9), mean=6.054255319148937, variance=13.68669001287196, skewness=0.8278972982417563, kurtosis=-0.07370891263186996)\n"
     ]
    },
    {
     "data": {
      "image/png": "[encoded data removed]",
      "text/plain": [
       "<Figure size 432x288 with 1 Axes>"
      ]
     },
     "metadata": {
      "needs_background": "light"
     },
     "output_type": "display_data"
    }
   ],
   "source": [
    "# Data Analysis:\n",
    "# We can see below that when comparing points between the two groups there is a difference\n",
    "# in the distribution of points scored over three seasons. We can also visually confirm a safely assumable normal ditribution \n",
    "# of data. Furthermore, the skewness and kurtosis measures are well within the ranges for the data to be considered normally \n",
    "# distributed. \n",
    "\n",
    "plt.hist(fr_top_picks['pts'], alpha= .5, color= 'b', label= 'Top 14')\n",
    "plt.hist(fr_bottom_picks['pts'], alpha= .5, color= 'r', label= 'Bottom 16')\n",
    "plt.title('Points Distributions by Group')\n",
    "plt.xlabel('Draft Number')\n",
    "plt.ylabel('Average Points per Game')\n",
    "plt.legend()\n",
    "\n",
    "print(stats.describe(fr_top_picks['pts']))\n",
    "print(stats.describe(fr_bottom_picks['pts']))\n",
    "plt.show()"
   ]
  },
  {
   "cell_type": "code",
   "execution_count": 11,
   "metadata": {},
   "outputs": [
    {
     "name": "stdout",
     "output_type": "stream",
     "text": [
      "Points, Top 14: ShapiroResult(statistic=0.961229145526886, pvalue=6.569277388734918e-07)\n",
      "Points, Bottom 16: ShapiroResult(statistic=0.9304066896438599, pvalue=3.157550054755376e-10)\n"
     ]
    }
   ],
   "source": [
    "# From the Shapiro-Wilk test, we can see that the W values statisfy parametric constraints (close to 1) but the p-values are not > .05, \n",
    "# within those same parameters, which can indicate that we are not dealing with normal distributions.\n",
    "\n",
    "# However, you will recall that we received normally parametric skewness and kurtosis metrics, so we can in fact, \n",
    "# continue treating the data sets as normal distributions.\n",
    "\n",
    "print('Points, Top 14:', stats.shapiro(fr_top_picks['pts']))\n",
    "print('Points, Bottom 16:', stats.shapiro(fr_bottom_picks['pts']))"
   ]
  },
  {
   "cell_type": "code",
   "execution_count": 12,
   "metadata": {},
   "outputs": [
    {
     "data": {
      "text/plain": [
       "Ttest_indResult(statistic=11.265790736651459, pvalue=1.0687850812349654e-26)"
      ]
     },
     "execution_count": 12,
     "metadata": {},
     "output_type": "execute_result"
    }
   ],
   "source": [
    "# As we are dealing with normal distributions of data we will execute a T-test for these two independent groups, so that\n",
    "# we might measure the statistical signifance of their difference in points scored over three seasons of play in the NBA\n",
    "\n",
    "stats.ttest_ind(fr_top_picks['pts'], fr_bottom_picks['pts'])\n",
    "\n",
    "# Because p-value < 0.01\n",
    "# We can reject the null hypothesis that there is no statistical difference in points between\n",
    "# the top 14 draft picks of the First Round and the remaining draft picks."
   ]
  },
  {
   "cell_type": "code",
   "execution_count": 13,
   "metadata": {},
   "outputs": [
    {
     "data": {
      "text/plain": [
       "'The difference in means at the 95% confidence interval (two-tail) is between 3.5704655372380563 and 5.071199263060559.'"
      ]
     },
     "execution_count": 13,
     "metadata": {},
     "output_type": "execute_result"
    }
   ],
   "source": [
    "# Conclusively, we can interpret the confidence interval results below as such: \n",
    "# With 95% confidence, the top 14 draft picks of the First Round, as a group, score on average between 3.57 to 5.07 pts more than\n",
    "# the rest of the combined draft picks of the First Round. \n",
    "\n",
    "def get_95_ci(array_1, array_2):\n",
    "    sample_1_n = array_1.shape[0]\n",
    "    sample_2_n = array_2.shape[0]\n",
    "    sample_1_mean = array_1.mean()\n",
    "    sample_2_mean = array_2.mean()\n",
    "    sample_1_var = array_1.var()\n",
    "    sample_2_var = array_2.var()\n",
    "    mean_difference = sample_2_mean - sample_1_mean\n",
    "    std_err_difference = math.sqrt((sample_1_var/sample_1_n)+(sample_2_var/sample_2_n))\n",
    "    margin_of_error = 1.96 * std_err_difference\n",
    "    ci_lower = mean_difference - margin_of_error\n",
    "    ci_upper = mean_difference + margin_of_error\n",
    "    return(\"The difference in means at the 95% confidence interval (two-tail) is between \"+str(ci_lower)+\" and \"+str(ci_upper)+\".\")\n",
    "\n",
    "get_95_ci(fr_bottom_picks['pts'], fr_top_picks['pts'])"
   ]
  },
  {
   "cell_type": "code",
   "execution_count": 14,
   "metadata": {},
   "outputs": [
    {
     "data": {
      "image/png": "[encoded data removed]",
      "text/plain": [
       "<Figure size 432x288 with 1 Axes>"
      ]
     },
     "metadata": {
      "needs_background": "light"
     },
     "output_type": "display_data"
    }
   ],
   "source": [
    "# We can visually observe the difference in means between the two groups using a point plot\n",
    "# In doing so it becomes very apparent that the means of average points per game are significantly different.\n",
    "\n",
    "g = sns.pointplot(data=[fr_top_picks['pts'],\n",
    "                        fr_bottom_picks['pts']])\n",
    "                        \n",
    "g.set(xticklabels = ['fr_top_picks', 'fr_bottom_picks'])\n",
    "plt.title('Difference in Means between Top 14 and Bottom 16')\n",
    "plt.ylabel('Average Points per Game')\n",
    "plt.show()"
   ]
  },
  {
   "cell_type": "code",
   "execution_count": 33,
   "metadata": {},
   "outputs": [
    {
     "name": "stdout",
     "output_type": "stream",
     "text": [
      "Cohens d: 0.946\n"
     ]
    }
   ],
   "source": [
    "# Effect Size is a necessary calculation, because we want to quantify the magnitude of the effect we observed\n",
    "# in our ttest above. We accomplish this by utlizing Cohen's d calculation.\n",
    "\n",
    "def effect_size_calc(d1,d2):\n",
    "    # calculate the size of samples\n",
    "    n_obs1, n_obs2 = len(d1), len(d2)\n",
    "    # calculate the variance of the samples\n",
    "    s1_var, s2_var = (d1).var(), (d2).var()\n",
    "    # calculate the pooled standard deviation\n",
    "    pooled_stdev = np.sqrt(((n_obs1 - 1) * s1_var + (n_obs2 - 1) * s2_var) / (n_obs1 + n_obs2 - 2))\n",
    "    # calculate the means of the samples\n",
    "    u1, u2 = (d1).mean(), (d2).mean()\n",
    "    # calculate the effect size\n",
    "    return (u1 - u2) / pooled_stdev\n",
    "\n",
    "d = effect_size_calc(fr_top_picks['pts'], fr_bottom_picks['pts'])\n",
    "print('Cohens d: %.3f' % d)"
   ]
  },
  {
   "cell_type": "code",
   "execution_count": 46,
   "metadata": {},
   "outputs": [
    {
     "data": {
      "image/png": "[encoded data removed]",
      "text/plain": [
       "<Figure size 432x288 with 1 Axes>"
      ]
     },
     "metadata": {
      "needs_background": "light"
     },
     "output_type": "display_data"
    }
   ],
   "source": [
    "# It may serve deeper analysis at a later juncture to examine the performance differences amongst the Non-Lottery Draft Picks,\n",
    "# as there appears to be less variance in that bottom half of draft picks.\n",
    "\n",
    "results_df.groupby(['draft_number']).mean().reset_index().plot(kind='line',x='draft_number',y='pts')\n",
    "plt.show()"
   ]
  }
 ],
 "metadata": {
  "kernelspec": {
   "display_name": "Python 3",
   "language": "python",
   "name": "python3"
  },
  "language_info": {
   "codemirror_mode": {
    "name": "ipython",
    "version": 3
   },
   "file_extension": ".py",
   "mimetype": "text/x-python",
   "name": "python",
   "nbconvert_exporter": "python",
   "pygments_lexer": "ipython3",
   "version": "3.7.6"
  }
 },
 "nbformat": 4,
 "nbformat_minor": 4
}
